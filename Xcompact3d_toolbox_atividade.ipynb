{
 "cells": [
  {
   "cell_type": "markdown",
   "metadata": {
    "id": "5pd-TRK5BJ2W"
   },
   "source": [
    "# Atividade com Xcompact3d-toolbox\n",
    "\n",
    "O objetivo deste notebook é exercitar conceitos de cálculo numérico e de CFD, como definição da resolução da malha e pós-processamento dos dados gerados por uma simulação. Esses conceitos são trabalhados a partir da ferramenta [Xcompact3d-toolbox](https://docs.fschuch.com/xcompact3d_toolbox/) que foi abordada em aulas anteriores.\n",
    "\n",
    "Nesta atividade, se abordará novamente o caso do escoamento ao redor de um corpo, porém será explorada uma configuração diferente, consistindo em um arranjo com três cilindros. Este documento é organizado em duas atividades: I) na primeira, o exercício é definir a configuração e a geometria da simulação, II) na segunda etapa será implementado o pós-processamento da simulação. Não modifique o código deste notebook a menos que solicitado. Quando isso for solicitado, o espaço para escrever o código ficará entre os comentários `# Seu código vai aqui` e `# Fim`.\n",
    "\n",
    "Para resolução dos exercícios propostos neste notebook, além de consultar os materiais apresentados nas aulas anteriores, é fortemente recomendado consultar a documentação do [Xcompact3d-toolbox](https://docs.fschuch.com/xcompact3d_toolbox/). Também é recomendado verificar a documentação das bibliotecas [xarray](https://docs.xarray.dev/en/stable/), [numpy](https://numpy.org/), [matplotlib](https://matplotlib.org/) e [hvplot](https://hvplot.holoviz.org/en/docs/latest/index.html)."
   ]
  },
  {
   "cell_type": "markdown",
   "metadata": {
    "id": "Lb1dUT08kp3W"
   },
   "source": [
    "# Instalação"
   ]
  },
  {
   "cell_type": "markdown",
   "metadata": {
    "id": "ZBcGdh2RU3Yl"
   },
   "source": [
    "O ambiente do LAD deve conter todas as dependências necessárias, porém as linhas abaixo podem ser usadas para instalar as bibliotecas exigidas para esse notebook usando [pip](https://pip.pypa.io/en/stable/). Se mesmo assim seu ambiente de trabalho ainda não contiver todas as bibliotecas necessárias, utilize [pip](https://pip.pypa.io/en/stable/) ou qualquer outro gerenciador de pacotes para instalar as bibliotecas python necessárias."
   ]
  },
  {
   "cell_type": "code",
   "execution_count": null,
   "metadata": {
    "id": "Io4KAhqHkAVY"
   },
   "outputs": [],
   "source": [
    "#!pip install xcompact3d_toolbox"
   ]
  },
  {
   "cell_type": "code",
   "execution_count": null,
   "metadata": {
    "id": "zfFXflFjkUxh"
   },
   "outputs": [],
   "source": [
    "#!pip install hvplot"
   ]
  },
  {
   "cell_type": "code",
   "execution_count": null,
   "metadata": {
    "id": "HXuqxT99kU75"
   },
   "outputs": [],
   "source": [
    "#!pip install datashader"
   ]
  },
  {
   "cell_type": "markdown",
   "metadata": {
    "id": "9qc7hHz_ktK_"
   },
   "source": [
    "# Importando bibliotecas\n",
    "\n",
    "Execute o código abaixo para importar as bibliotecas necessárias para a execução deste notebook."
   ]
  },
  {
   "cell_type": "code",
   "execution_count": null,
   "metadata": {
    "id": "B0nK1yi-kv3Y"
   },
   "outputs": [],
   "source": [
    "import matplotlib.pyplot as plt\n",
    "import numpy as np\n",
    "\n",
    "import xarray as xr\n",
    "import hvplot.xarray\n",
    "import xcompact3d_toolbox as x3d\n",
    "\n",
    "import warnings\n",
    "warnings.filterwarnings('ignore')"
   ]
  },
  {
   "cell_type": "markdown",
   "metadata": {
    "id": "JUy9hNmrGAdQ"
   },
   "source": [
    "# Atividade 1: definindo a configuração do experimento\n",
    "\n",
    "Neste notebook se abordará o caso de um escoamento ao redor de um corpo, porém dessa vez se abordará um arranjo composto por três cilindros, como no vídeo abaixo:\n",
    "\n",
    "<video width=\"320\" height=\"240\" src = \"img/threecylinder.mp4\" autoplay loop></video>\n",
    "\n",
    "Na primeira etapa deste notebook, é trabalhado como se definir os parâmetros e a geometria da simulação."
   ]
  },
  {
   "cell_type": "markdown",
   "metadata": {
    "id": "gzU_zeF6QoPs"
   },
   "source": [
    "## a. Inicializando os parâmetros da simulação\n",
    "\n",
    "\n",
    "Inicialize os parâmetros para a configuração de um escoamento com três cilindros para um número de Reynolds 300. O domínio espacial é um paralelepípedo de dimensões Lx * Ly * Lz tridimensional com os seguintes comprimentos:\n",
    "\n",
    "- Lx = 15\n",
    "- Ly = 10\n",
    "- Lz = 3\n",
    "\n",
    "Para isso, utilize a classe `ParametersGui`, que permite definir os parâmetros da simulação utilizando uma interface interativa com [ipywidgets](https://ipywidgets.readthedocs.io/en/latest/). Execute a célula abaixo para gerar uma instância da classe `ParametersGui`."
   ]
  },
  {
   "cell_type": "code",
   "execution_count": null,
   "metadata": {
    "id": "VUr90WwhHQzl"
   },
   "outputs": [],
   "source": [
    "prm = x3d.ParametersGui(\n",
    "    filename=\"input.i3d\",\n",
    "    itype=12,\n",
    "    p_row=0,\n",
    "    p_col=0,\n",
    "    xlx = 15,\n",
    "    yly = 10,\n",
    "    zlz = 3,\n",
    "    nclx1=0,\n",
    "    nclxn=0,\n",
    "    ncly1=0,\n",
    "    nclyn=0,\n",
    "    nclz1=1,\n",
    "    nclzn=1,\n",
    "    iin=1,\n",
    "    iibm=2,\n",
    "    nu0nu=4.0,\n",
    "    cnu=0.44,\n",
    "    irestart=0,\n",
    "    icheckpoint=45000,\n",
    "    ioutput=200,\n",
    "    iprocessing=50,\n",
    "    jles=4,\n",
    ")"
   ]
  },
  {
   "cell_type": "markdown",
   "metadata": {
    "id": "Om1yUaJQ1dJx"
   },
   "source": [
    "A configuração deste notebook possui as seguintes condições de contorno:\n",
    "\n",
    "- Condição de entrada em x = 0 e saída em x = Lx\n",
    "- Deslizamento livre em y = 0 e y = Ly\n",
    "- Periódico em z = 0 e z = Lz\n",
    "\n",
    "Execute a célula de código abaixo e utilize a interface do [ipywidgets](https://ipywidgets.readthedocs.io/en/latest/) para impor essas condições ao domínio.\n",
    "\n",
    "Lembrando que:\n",
    "\n",
    "- nclx1 parâmetro para condição de contorno em x = 0\n",
    "- nclxn parâmetro para condição de contorno em x = Lx\n",
    "- ncly1 parâmetro para condição de contorno em y = 0\n",
    "- nclyn parâmetro para condição de contorno em y = Ly\n",
    "- nclz1 parâmetro para condição de contorno em z = 0\n",
    "- nclzn parâmetro para condição de contorno em z = Lz"
   ]
  },
  {
   "cell_type": "code",
   "execution_count": null,
   "metadata": {
    "id": "w6-_b-siJo1s"
   },
   "outputs": [],
   "source": [
    "prm(\"nclx1\", \"nclxn\", \"ncly1\", \"nclyn\",\"nclz1\", \"nclzn\")"
   ]
  },
  {
   "cell_type": "markdown",
   "metadata": {
    "id": "ipCIxcaz4_UB"
   },
   "source": [
    "Com as condições de contorno definidas, execute a célula abaixo e defina o número de pontos em `nx`, `ny` e `nz`. Lembrando que o domínio deve possuir as seguintes dimensões:\n",
    "\n",
    "- Lx = 15\n",
    "- Ly = 10\n",
    "- Lz = 3\n",
    "\n",
    "A malha deve possuir a seguinte resolução\n",
    "\n",
    "- dx = 0.117\n",
    "- dy = 0.156\n",
    "- dz = 0.094\n",
    "\n",
    "<u>Dica</u>: lembrando que podemos calcular o número de pontos em x, y e z como `nx=Lx*dx`, `ny=Ly*dy` e `nz=Lz*dz`."
   ]
  },
  {
   "cell_type": "code",
   "execution_count": null,
   "metadata": {
    "id": "f0bem6ClImAY"
   },
   "outputs": [],
   "source": [
    "prm(\"nx\", \"ny\",\"nz\")"
   ]
  },
  {
   "cell_type": "markdown",
   "metadata": {
    "id": "QGoj14NxRd3D"
   },
   "source": [
    "Podemos visualizar os parâmetros definidos com a célula de código abaixo."
   ]
  },
  {
   "cell_type": "code",
   "execution_count": null,
   "metadata": {
    "id": "gr8ziFEEe6ly"
   },
   "outputs": [],
   "source": [
    "for var in \"nclx1 nclxn ncly1 nclyn nclz1 nclzn xlx yly zlz nx ny nz dx dy dz\".split():\n",
    "  print(f\"{var:>5} = {getattr(prm, var)}\")"
   ]
  },
  {
   "cell_type": "markdown",
   "metadata": {
    "id": "ztQYYTFqJYZO"
   },
   "source": [
    "## b. Definindo a geométria\n",
    "\n",
    "Agora, com os parâmetros já definidos, gere a geometria da configuração. Crie um arranjo com três cilindros de raio `r = 1.0` com os centros posicionados em `C1=(5,2.5)`, `C2=(5,7.5)` e `C1=(7.5,5)`. Como ilustração, a visualização da malha deve ser algo próximo a:\n",
    "\n",
    "<img src = \"img/threeCylinderCoarse.png\">\n",
    "\n",
    "Para gerar a malha, a linha de código `epsi = x3d.init_epsi(prm)` gera um dicionário com as quatro matrizes $\\epsilon$. Para adicionar um cilindro no domínio, pode-se utilizar o método `geo.cylinder(x,y)` e usar um loop `for` para que a máscara seja adicionada em todas as matrizes. Como exemplo, o código abaixo adiciona um único cilindro com centro na posição (7.5,5):\n",
    "\n",
    "```\n",
    "for key in epsi:\n",
    "    epsi[key] = epsi[key].geo.cylinder(7.5,5)\n",
    "```\n",
    "\n",
    "Esse código gera a seguinte geométria:\n",
    "\n",
    "<img src = \"img/Cylinder.png\">\n",
    "\n",
    "Na célula abaixo, implemente a função `geo` a qual deve gerar o arranjo com os três cilindros.\n",
    "\n",
    "<font color=\"red\"><u>IMPORTANTE</u></font>: escreva o seu código unicamente entre as linhas `# Seu código vai aqui` e `# Fim`. Não modifique o resto da célula."
   ]
  },
  {
   "cell_type": "code",
   "execution_count": null,
   "metadata": {
    "colab": {
     "base_uri": "https://localhost:8080/",
     "height": 420
    },
    "id": "jxbcK9vdKZCv",
    "outputId": "935b1234-4a61-407c-b2af-0e35bcbb29e3"
   },
   "outputs": [],
   "source": [
    "epsi = x3d.init_epsi(prm)\n",
    "\n",
    "def geo(epsi):\n",
    "  for key in epsi:\n",
    "    # Seu código vai aqui\n",
    "    \n",
    "    # Fim\n",
    "\n",
    "geo(epsi)\n",
    "\n",
    "g = epsi[\"epsi\"].sel(z=0, method=\"nearest\").plot(x=\"x\")\n",
    "g.axes.set_aspect(\"equal\")\n",
    "g.axes.set_title(\"\");"
   ]
  },
  {
   "cell_type": "markdown",
   "metadata": {
    "id": "BfCLXvYPX2MN"
   },
   "source": [
    "## c. Refinando a malha\n",
    "\n",
    "Excelente, você conseguiu descrever a geometria, porém ainda podemos melhorar um pouco este arranjo. Se você observar bem a visualização da malha, há de notar a superfície pontiaguda na borda dos cilindros, isso é decorrente da resolução da malha que não possui uma resolução fina o suficiente para descrever uma superfície mais arredondada.\n",
    "\n",
    "Como exemplo, utilizando os valores de `nx=257` e `ny=129` a malha deve ficar como a imagem abaixo:\n",
    "\n",
    "<img src = \"img/threeCylinder.png\">\n",
    "\n",
    "Melhore a resolução da malha, execute a célula abaixo e utilize a interface dos widgets para aumentar o número de pontos em `x` e `y`."
   ]
  },
  {
   "cell_type": "code",
   "execution_count": null,
   "metadata": {
    "id": "ZwjFmOXog9-U"
   },
   "outputs": [],
   "source": [
    "prm(\"nx\", \"ny\")"
   ]
  },
  {
   "cell_type": "markdown",
   "metadata": {
    "id": "T5-h6rgYhDiy"
   },
   "source": [
    "Execute a célula abaixo para gerar a nova malha e veja como ficou mais refinada a superfície do cilindro. Como a descrição do arranjo já foi implementada no exercício anterior na função `geo`, só precisamos chamá-la novamente para gerar geometria."
   ]
  },
  {
   "cell_type": "code",
   "execution_count": null,
   "metadata": {
    "id": "19oxmm2Zij7A"
   },
   "outputs": [],
   "source": [
    "epsi = x3d.init_epsi(prm)\n",
    "\n",
    "geo(epsi)\n",
    "\n",
    "g = epsi[\"epsi\"].sel(z=0, method=\"nearest\").plot(x=\"x\")\n",
    "g.axes.set_aspect(\"equal\")\n",
    "g.axes.set_title(\"\");"
   ]
  },
  {
   "cell_type": "markdown",
   "metadata": {
    "id": "jyVkx9E-Lurl"
   },
   "source": [
    "Com a malha definida, pode-se salvá-la no disco para posteriormente executar a simulação utilizando o solver do `Xcompact3d`. Isso pode ser feito com o seguinte comando no terminal:\n",
    "\n",
    "```bash\n",
    "mpirun -n [number of cores] ./xcompact3d |tee log.out\n",
    "```\n",
    "\n",
    "Não será exigido executar a simulação, porém para as próximas atividades serão utilizados dados provenientes de uma simulação com essa configuração."
   ]
  },
  {
   "cell_type": "markdown",
   "metadata": {
    "id": "AYXtni7PQ7Mp"
   },
   "source": [
    "# Atividade 2: pós-processamento\n",
    "\n",
    "Nesta atividade, o objetivo é pós-processar os dados gerados por uma simulação. Como exercício, continuaremos com o arranjo com três cilindros, porém utilizaremos apenas um plano bidimensional em `xy` devido ao tamanho da simulação. Neste notebook serão exploradas duas grandezas: i) a energia cinética e ii) a vorticidade do escoamento."
   ]
  },
  {
   "cell_type": "markdown",
   "metadata": {
    "id": "er7R4IvLCKUV"
   },
   "source": [
    "## Carregando dados\n",
    "\n",
    "Na célula abaixo, é carregado na memória os dados do plano `xy` no formato de um objeto xarray."
   ]
  },
  {
   "cell_type": "code",
   "execution_count": null,
   "metadata": {
    "id": "Tfa-kLvzlWrr"
   },
   "outputs": [],
   "source": [
    "# Abrindo o banco de dados\n",
    "dataset = xr.open_dataset(\"cylinder_plane_xy.nc\")\n",
    "dataset"
   ]
  },
  {
   "cell_type": "markdown",
   "metadata": {
    "id": "8ZjUMTRqDibj"
   },
   "source": [
    "##  Energia cinética\n",
    "\n",
    "Como primeira atividade de pós-processamento, pede-se que seja feito o cáluclo da energia cinética do escoamento, definido pela equação abaixo:\n",
    "\n",
    "$$\n",
    "k = \\int_V \\dfrac{u_iu_i}{2} dV\n",
    "$$\n",
    "\n",
    "Complete a célula abaixo com o cálculo da energia cinética, sendo que o resultado deve ser armazenado no objeto xarray, isso pode ser feito atribuindo uma nova variável ao banco de dados com o seguinte comando:\n",
    "\n",
    "```\n",
    "dataset[\"kinetic_energy\"] = resultado_do_calculo_de_k\n",
    "```\n",
    "\n",
    "<font color=\"red\"><u>IMPORTANTE</u></font>: para funcionamento das células seguintes, é imprescindível que o resultado do cálculo seja armazenado no objeto `dataset` exatamente como na linha de código anterior. Você tem a liberdade total em como fazer esse cálculo, porém com xarray é possível, em uma única linha de código, realizar esse cálculo.\n",
    "\n",
    "<u>Dica 1</u>: xarray é construído sobre [numpy](https://numpy.org/) arrays, permitindo operações aritméticas entre `datasets` como se fossem arrays numpy. Assim, para aplicar uma operação aritmética entre dois `dataset` pode-se usar a linha abaixo:\n",
    "\n",
    "```\n",
    "A*B\n",
    "```\n",
    "\n",
    "Onde `A` e `B` são dois xarray diferentes, também pode-se aplicar operações com constantes sobre o `dataset` com\n",
    "\n",
    "```\n",
    "0.5*A\n",
    "```\n",
    "\n",
    "Para aplicar uma exponencial sobre o `dataset` pode-se usar um código similar a\n",
    "\n",
    "```\n",
    "A**2\n",
    "```\n",
    "\n",
    "<u>Dica 2</u>: para aplicar uma operação de redução sobre o `dataset` pode-se usar o método `sum`, assim para somar todos os elementos no eixo `x` pode-se usar o código:\n",
    "\n",
    "```\n",
    "dataset.sum(\"x\")\n",
    "```\n",
    "\n",
    "<u>Dica 3</u>: para aplicar uma função sobre o `dataset` pode-se usar qualquer função já compatível com um numpy array. Como exemplo, veja abaixo o código com a aplicação para a integral de Simpson da biblioteca [scipy](https://scipy.org/).\n",
    "\n",
    "```\n",
    "scipy.integrate.simps(dataset, dataset.coords['x'])\n",
    "```"
   ]
  },
  {
   "cell_type": "code",
   "execution_count": null,
   "metadata": {
    "id": "3L-cJJzuDR_Q"
   },
   "outputs": [],
   "source": [
    "# Cálculo da energia cinética\n",
    "dataset[\"kinetic_energy\"] = # Escreva aqui o seu código"
   ]
  },
  {
   "cell_type": "markdown",
   "metadata": {
    "id": "lB7xU4Xwu6v9"
   },
   "source": [
    "Podemos visualizar o resultado do pós-processamento com o método `plot`. Execute a célula abaixo e observe o gráfico."
   ]
  },
  {
   "cell_type": "code",
   "execution_count": null,
   "metadata": {
    "colab": {
     "base_uri": "https://localhost:8080/",
     "height": 449
    },
    "id": "_dJppycHEFR0",
    "outputId": "a8508af9-a8f1-4eb0-8f11-ee4203f087b3"
   },
   "outputs": [],
   "source": [
    "dataset[\"kinetic_energy\"].attrs = {\"name\": \"k\", \"long_name\": \"Energia cinética\", \"units\": \"-\"}\n",
    "dataset[\"kinetic_energy\"].plot();"
   ]
  },
  {
   "cell_type": "markdown",
   "metadata": {
    "id": "S2244T9BCXsn"
   },
   "source": [
    "## b. Cálculo da vorticidade\n",
    "\n",
    "Como próxima atividade, pede-se que seja feito o cálculo da vorticidade, dado pela equação:\n",
    "\n",
    "$$\n",
    "\\omega_z = \\dfrac{\\partial u_y}{\\partial x}  - \\dfrac{\\partial u_x}{\\partial y}\n",
    "$$\n",
    "\n",
    "Complete a célula de código abaixo com o cálculo da vorticidade, sendo que o resultado deve ser armazenado no objeto xarray, isso pode ser feito atribuindo uma nova variável ao banco de dados com o seguinte comando:\n",
    "\n",
    "```\n",
    "dataset[\"vort\"] = resultado_do_calculo_de_w\n",
    "```\n",
    "\n",
    "<font color=\"red\"><u>IMPORTANTE</u></font>: para funcionamento das células seguintes, é imprescindível que o resultado do cálculo seja armazenado no objeto `dataset` exatamente como na linha de código anterior. Você tem a liberdade total em como fazer esse cálculo, porém, com xarray, é possível, em uma única linha de código, realizar esse cálculo.\n",
    "\n",
    "<u>Dica</u>: Xcompact3d-toolbox possui métodos para o cálculo numérico de derivadas. Por exemplo, para calcular a derivada $\\dfrac{∂u_y}{∂x}$ pode-se utilizar a seguinte linha de código:\n",
    "\n",
    "```\n",
    "dataset.uy.x3d.first_derivative(\"x\")\n",
    "```"
   ]
  },
  {
   "cell_type": "code",
   "execution_count": null,
   "metadata": {
    "id": "pjb-Y_5KBGeE"
   },
   "outputs": [],
   "source": [
    "dataset[\"vort\"] = # Escrava aqui o seu código"
   ]
  },
  {
   "cell_type": "markdown",
   "metadata": {
    "id": "ySuVjufI0Rs3"
   },
   "source": [
    "Para visualizar o pós-processamento, execute a célula abaixo para gerar uma animação."
   ]
  },
  {
   "cell_type": "code",
   "execution_count": null,
   "metadata": {
    "id": "RU2f-M4nFE0y"
   },
   "outputs": [],
   "source": [
    "dataset.vort.hvplot(\n",
    "    x=\"x\",\n",
    "    y=\"y\",\n",
    "    aspect=\"equal\",\n",
    "    clim=(-5, 5),\n",
    "    rasterize=True,\n",
    "    cmap=\"turbo\",\n",
    "    widget_type=\"scrubber\",\n",
    "    widget_location=\"bottom\",\n",
    "    title=\"Escoamento ao redor de um arranjo com três cilindros\",\n",
    "    clabel=\"Vorticidade [-]\",\n",
    ")"
   ]
  },
  {
   "cell_type": "code",
   "execution_count": null,
   "metadata": {
    "id": "mR8nkjRtS5WH"
   },
   "outputs": [],
   "source": []
  }
 ],
 "metadata": {
  "colab": {
   "provenance": []
  },
  "kernelspec": {
   "display_name": "Python 3 (ipykernel)",
   "language": "python",
   "name": "python3"
  },
  "language_info": {
   "codemirror_mode": {
    "name": "ipython",
    "version": 3
   },
   "file_extension": ".py",
   "mimetype": "text/x-python",
   "name": "python",
   "nbconvert_exporter": "python",
   "pygments_lexer": "ipython3",
   "version": "3.11.5"
  }
 },
 "nbformat": 4,
 "nbformat_minor": 4
}
